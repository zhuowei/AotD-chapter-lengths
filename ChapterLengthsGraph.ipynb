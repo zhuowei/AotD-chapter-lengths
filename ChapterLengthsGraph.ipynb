{
 "cells": [
  {
   "cell_type": "code",
   "execution_count": 70,
   "metadata": {},
   "outputs": [],
   "source": [
    "# Challenge accepted\n",
    "# https://twitter.com/0xabad1dea/status/1119384240070598656\n",
    "from bs4 import BeautifulSoup\n",
    "import re\n",
    "import matplotlib.pyplot as plt\n",
    "from scipy.stats import linregress\n",
    "%matplotlib inline"
   ]
  },
  {
   "cell_type": "code",
   "execution_count": 11,
   "metadata": {},
   "outputs": [],
   "source": [
    "def getTextFromHTML(filename):\n",
    "    with open(filename, \"r\", encoding=\"utf-8\") as infile:\n",
    "        soup = BeautifulSoup(infile, \"html.parser\")\n",
    "        return soup.get_text()"
   ]
  },
  {
   "cell_type": "code",
   "execution_count": 31,
   "metadata": {},
   "outputs": [],
   "source": [
    "whitespace = re.compile(\"\\s+\")\n",
    "def getWordsForText(text):\n",
    "    words = whitespace.sub(\" \", text).strip().split(\" \")\n",
    "    return words\n",
    "#getWordsForText(getTextFromHTML(\"gitt/OPS/body4.xhtml\"))"
   ]
  },
  {
   "cell_type": "code",
   "execution_count": 24,
   "metadata": {},
   "outputs": [],
   "source": [
    "gitt_path = \"gitt/OPS/body{}.xhtml\"\n",
    "rits_path = \"rits/OPS/body{}.xhtml\"\n",
    "# ch1 - end, not including epilogue poem\n",
    "gitt_paths = [gitt_path.format(i) for i in range(4, 32)]\n",
    "# ch1 - end, not including the Prior Volume summary\n",
    "rits_paths = [rits_path.format(i) for i in range(4, 38)]\n",
    "allpaths = gitt_paths + rits_paths\n",
    "#allpaths"
   ]
  },
  {
   "cell_type": "code",
   "execution_count": 50,
   "metadata": {},
   "outputs": [],
   "source": [
    "chapterWords = [getWordsForText(getTextFromHTML(path)) for path in allpaths]\n",
    "chapterLengths = [len(a) for a in chapterWords]"
   ]
  },
  {
   "cell_type": "code",
   "execution_count": 68,
   "metadata": {},
   "outputs": [
    {
     "name": "stdout",
     "output_type": "stream",
     "text": [
      "CHAPTER ONE Wilderness Framing a Road                                  | 4287\n",
      "CHAPTER TWO An Eighth Of Blood                                         | 3435\n",
      "INTERLUDE: SPARKASUKI, AS TOLD IN THE COUNTRY OF ANTARAM Before        | 722\n",
      "CHAPTER THREE Sisters                                                  | 5120\n",
      "CHAPTER FOUR Uncountably Many                                          | 3360\n",
      "INTERLUDE: INDRANIL, AS TOLD IN THE COUNTRY OF CHALD Before            | 729\n",
      "CHAPTER FIVE The Will of the World                                     | 2438\n",
      "CHAPTER SIX Shackles                                                   | 5869\n",
      "INTERLUDE: ARAKEL, AS TOLD IN THE COUNTRY OF TOKHAR Before             | 661\n",
      "CHAPTER SEVEN Boars of the West                                        | 5376\n",
      "CHAPTER EIGHT The Quiet Confidence                                     | 3444\n",
      "CHAPTER NINE Once, Long Ago                                            | 2680\n",
      "CHAPTER TEN Two In Number                                              | 4893\n",
      "CHAPTER ELEVEN Ask the Tides to Wait                                   | 3581\n",
      "CHAPTER TWELVE Conspiracy                                              | 3580\n",
      "CHAPTER THIRTEEN In the Midst of the Sea                               | 3082\n",
      "CHAPTER FOURTEEN Boys and Men                                          | 5196\n",
      "CHAPTER FIFTEEN The End of the Sky                                     | 3839\n",
      "CHAPTER SIXTEEN The First Night                                        | 4111\n",
      "CHAPTER SEVENTEEN The Rule of Law                                      | 7253\n",
      "CHAPTER EIGHTEEN Too Strong To Hold                                    | 4820\n",
      "CHAPTER NINETEEN Withhold No Truths                                    | 4704\n",
      "CHAPTER TWENTY Any Beautiful Thing                                     | 6837\n",
      "CHAPTER TWENTY-ONE Broken                                              | 5043\n",
      "CHAPTER TWENTY-TWO The Hue of Wrath                                    | 5179\n",
      "CHAPTER TWENTY-THREE In My Left Hand Darkness                          | 6433\n",
      "CHAPTER TWENTY-FOUR In My Right Hand Light                             | 4908\n",
      "CHAPTER TWENTY-FIVE Always                                             | 3357\n",
      "CHAPTER ONE The Power Of Ink This book discusses queer                 | 5333\n",
      "CHAPTER TWO Brothers                                                   | 6767\n",
      "CHAPTER THREE Secret Prayers                                           | 5525\n",
      "CHAPTER FOUR For Her Sake                                              | 5941\n",
      "CHAPTER FIVE The Sky Looked Down To The Sea                            | 4876\n",
      "INTERLUDE: THE FAIRY SOLDIER, AS TOLD IN KAPRIEL'S FAVORITE BOOK       | 269\n",
      "CHAPTER SIX Most Wicked And Cruel                                      | 3604\n",
      "CHAPTER SEVEN Successor                                                | 4846\n",
      "CHAPTER EIGHT Grand Aspirations                                        | 5049\n",
      "CHAPTER NINE The Responds Of Arches                                    | 3594\n",
      "INTERLUDE: A STAR FALLS ON ZARRANASK Zarranask is the city             | 387\n",
      "CHAPTER TEN Scrap Paper                                                | 6844\n",
      "CHAPTER ELEVEN The Star That Fell On The West                          | 6122\n",
      "CHAPTER TWELVE The Shadow Of The Dragonfly                             | 6969\n",
      "CHAPTER THIRTEEN Bright And Pure And Eternal                           | 5687\n",
      "CHAPTER FOURTEEN Before Law And Will                                   | 5549\n",
      "CHAPTER FIFTEEN Turning The Wheel                                      | 4856\n",
      "CHAPTER SIXTEEN A Flower Caught In The Wind                            | 5595\n",
      "CHAPTER SEVENTEEN Cast Upon The Waters                                 | 10229\n",
      "INTERLUDE: A FIRE AWAKENS IN SORONANIN Soron walked across sands       | 386\n",
      "CHAPTER EIGHTEEN Morning Glories                                       | 6337\n",
      "CHAPTER NINETEEN Star Of The Earth                                     | 6671\n",
      "CHAPTER TWENTY Anastasis                                               | 5945\n",
      "INTERLUDE: WIND AND STORM, AS TOLD IN KAPRIEL'S FAVORITE BOOK          | 87\n",
      "CHAPTER TWENTY-ONE Punctures                                           | 6742\n",
      "CHAPTER TWENTY-TWO The Bane Of The Voice                               | 6079\n",
      "CHAPTER TWENTY-THREE Almost Wrong                                      | 6117\n",
      "CHAPTER TWENTY-FOUR Jagged Edges                                       | 10508\n",
      "CHAPTER TWENTY-FIVE Daughters of Treachery                             | 6063\n",
      "CHAPTER TWENTY-SIX Love and Loyalty                                    | 5593\n",
      "CHAPTER TWENTY-SEVEN Look Away To The Hills                            | 6627\n",
      "CHAPTER TWENTY-EIGHT The Wind And The Clouds And The Rain              | 5796\n",
      "CHAPTER TWENTY-NINE Deft and Clever                                    | 3285\n",
      "CHAPTER THIRTY We Will Endure                                          | 7281\n"
     ]
    }
   ],
   "source": [
    "#chapterlengths\n",
    "def formatChapter(words):\n",
    "    return \" \".join(words[0:10]).split(\"♦\", 2)[0]\n",
    "for i in range(len(chapterLengths)):\n",
    "    print(\"{:<70} | {}\".format(formatChapter(chapterWords[i]), chapterLengths[i]))"
   ]
  },
  {
   "cell_type": "code",
   "execution_count": 77,
   "metadata": {
    "scrolled": true
   },
   "outputs": [
    {
     "data": {
      "text/plain": [
       "[<matplotlib.lines.Line2D at 0x11c4ad198>]"
      ]
     },
     "execution_count": 77,
     "metadata": {},
     "output_type": "execute_result"
    },
    {
     "data": {
      "image/png": "[encoded data removed]",
      "text/plain": [
       "<Figure size 432x288 with 1 Axes>"
      ]
     },
     "metadata": {
      "needs_background": "light"
     },
     "output_type": "display_data"
    }
   ],
   "source": [
    "plt.plot(chapterlengths, 'o')"
   ]
  },
  {
   "cell_type": "code",
   "execution_count": 71,
   "metadata": {},
   "outputs": [
    {
     "data": {
      "text/plain": [
       "LinregressResult(slope=47.59588023469567, intercept=3330.519201228879, rvalue=0.3970921672281331, pvalue=0.0013955542236623716, stderr=14.201702451844284)"
      ]
     },
     "execution_count": 71,
     "metadata": {},
     "output_type": "execute_result"
    }
   ],
   "source": [
    "linregress(list(range(len(chapterLengths))), chapterLengths)"
   ]
  },
  {
   "cell_type": "code",
   "execution_count": null,
   "metadata": {},
   "outputs": [],
   "source": []
  }
 ],
 "metadata": {
  "kernelspec": {
   "display_name": "Python 3",
   "language": "python",
   "name": "python3"
  },
  "language_info": {
   "codemirror_mode": {
    "name": "ipython",
    "version": 3
   },
   "file_extension": ".py",
   "mimetype": "text/x-python",
   "name": "python",
   "nbconvert_exporter": "python",
   "pygments_lexer": "ipython3",
   "version": "3.7.0"
  }
 },
 "nbformat": 4,
 "nbformat_minor": 2
}
